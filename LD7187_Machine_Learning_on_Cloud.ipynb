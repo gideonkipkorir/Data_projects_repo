{
  "cells": [
    {
      "cell_type": "markdown",
      "metadata": {
        "id": "view-in-github",
        "colab_type": "text"
      },
      "source": [
        "<a href=\"https://colab.research.google.com/github/gideonkipkorir/Data_projects_repo/blob/main/LD7187_Machine_Learning_on_Cloud.ipynb\" target=\"_parent\"><img src=\"https://colab.research.google.com/assets/colab-badge.svg\" alt=\"Open In Colab\"/></a>"
      ]
    },
    {
      "cell_type": "code",
      "execution_count": null,
      "id": "3bb1bfd2-2bf0-4acb-8b16-6a2e8b0f1aad",
      "metadata": {
        "tags": [],
        "id": "3bb1bfd2-2bf0-4acb-8b16-6a2e8b0f1aad"
      },
      "outputs": [],
      "source": [
        "import numpy as np\n",
        "import pandas as pd\n",
        "from sklearn.preprocessing import LabelEncoder\n",
        "from sklearn.model_selection import train_test_split\n"
      ]
    },
    {
      "cell_type": "code",
      "execution_count": null,
      "id": "a6318eca-16b7-4290-9ecd-6513caa8e973",
      "metadata": {
        "tags": [],
        "id": "a6318eca-16b7-4290-9ecd-6513caa8e973",
        "outputId": "e53fa49c-5dd5-4a1c-f7ca-940e5961ea8f"
      },
      "outputs": [
        {
          "data": {
            "text/html": [
              "<div>\n",
              "<style scoped>\n",
              "    .dataframe tbody tr th:only-of-type {\n",
              "        vertical-align: middle;\n",
              "    }\n",
              "\n",
              "    .dataframe tbody tr th {\n",
              "        vertical-align: top;\n",
              "    }\n",
              "\n",
              "    .dataframe thead th {\n",
              "        text-align: right;\n",
              "    }\n",
              "</style>\n",
              "<table border=\"1\" class=\"dataframe\">\n",
              "  <thead>\n",
              "    <tr style=\"text-align: right;\">\n",
              "      <th></th>\n",
              "      <th>date</th>\n",
              "      <th>home_team</th>\n",
              "      <th>away_team</th>\n",
              "      <th>home_team_continent</th>\n",
              "      <th>away_team_continent</th>\n",
              "      <th>home_team_fifa_rank</th>\n",
              "      <th>away_team_fifa_rank</th>\n",
              "      <th>home_team_total_fifa_points</th>\n",
              "      <th>away_team_total_fifa_points</th>\n",
              "      <th>home_team_score</th>\n",
              "      <th>...</th>\n",
              "      <th>shoot_out</th>\n",
              "      <th>home_team_result</th>\n",
              "      <th>home_team_goalkeeper_score</th>\n",
              "      <th>away_team_goalkeeper_score</th>\n",
              "      <th>home_team_mean_defense_score</th>\n",
              "      <th>home_team_mean_offense_score</th>\n",
              "      <th>home_team_mean_midfield_score</th>\n",
              "      <th>away_team_mean_defense_score</th>\n",
              "      <th>away_team_mean_offense_score</th>\n",
              "      <th>away_team_mean_midfield_score</th>\n",
              "    </tr>\n",
              "  </thead>\n",
              "  <tbody>\n",
              "    <tr>\n",
              "      <th>0</th>\n",
              "      <td>1993-08-08</td>\n",
              "      <td>Bolivia</td>\n",
              "      <td>Uruguay</td>\n",
              "      <td>South America</td>\n",
              "      <td>South America</td>\n",
              "      <td>59</td>\n",
              "      <td>22</td>\n",
              "      <td>0</td>\n",
              "      <td>0</td>\n",
              "      <td>3</td>\n",
              "      <td>...</td>\n",
              "      <td>No</td>\n",
              "      <td>Win</td>\n",
              "      <td>NaN</td>\n",
              "      <td>NaN</td>\n",
              "      <td>NaN</td>\n",
              "      <td>NaN</td>\n",
              "      <td>NaN</td>\n",
              "      <td>NaN</td>\n",
              "      <td>NaN</td>\n",
              "      <td>NaN</td>\n",
              "    </tr>\n",
              "    <tr>\n",
              "      <th>1</th>\n",
              "      <td>1993-08-08</td>\n",
              "      <td>Brazil</td>\n",
              "      <td>Mexico</td>\n",
              "      <td>South America</td>\n",
              "      <td>North America</td>\n",
              "      <td>8</td>\n",
              "      <td>14</td>\n",
              "      <td>0</td>\n",
              "      <td>0</td>\n",
              "      <td>1</td>\n",
              "      <td>...</td>\n",
              "      <td>No</td>\n",
              "      <td>Draw</td>\n",
              "      <td>NaN</td>\n",
              "      <td>NaN</td>\n",
              "      <td>NaN</td>\n",
              "      <td>NaN</td>\n",
              "      <td>NaN</td>\n",
              "      <td>NaN</td>\n",
              "      <td>NaN</td>\n",
              "      <td>NaN</td>\n",
              "    </tr>\n",
              "    <tr>\n",
              "      <th>2</th>\n",
              "      <td>1993-08-08</td>\n",
              "      <td>Ecuador</td>\n",
              "      <td>Venezuela</td>\n",
              "      <td>South America</td>\n",
              "      <td>South America</td>\n",
              "      <td>35</td>\n",
              "      <td>94</td>\n",
              "      <td>0</td>\n",
              "      <td>0</td>\n",
              "      <td>5</td>\n",
              "      <td>...</td>\n",
              "      <td>No</td>\n",
              "      <td>Win</td>\n",
              "      <td>NaN</td>\n",
              "      <td>NaN</td>\n",
              "      <td>NaN</td>\n",
              "      <td>NaN</td>\n",
              "      <td>NaN</td>\n",
              "      <td>NaN</td>\n",
              "      <td>NaN</td>\n",
              "      <td>NaN</td>\n",
              "    </tr>\n",
              "    <tr>\n",
              "      <th>3</th>\n",
              "      <td>1993-08-08</td>\n",
              "      <td>Guinea</td>\n",
              "      <td>Sierra Leone</td>\n",
              "      <td>Africa</td>\n",
              "      <td>Africa</td>\n",
              "      <td>65</td>\n",
              "      <td>86</td>\n",
              "      <td>0</td>\n",
              "      <td>0</td>\n",
              "      <td>1</td>\n",
              "      <td>...</td>\n",
              "      <td>No</td>\n",
              "      <td>Win</td>\n",
              "      <td>NaN</td>\n",
              "      <td>NaN</td>\n",
              "      <td>NaN</td>\n",
              "      <td>NaN</td>\n",
              "      <td>NaN</td>\n",
              "      <td>NaN</td>\n",
              "      <td>NaN</td>\n",
              "      <td>NaN</td>\n",
              "    </tr>\n",
              "    <tr>\n",
              "      <th>4</th>\n",
              "      <td>1993-08-08</td>\n",
              "      <td>Paraguay</td>\n",
              "      <td>Argentina</td>\n",
              "      <td>South America</td>\n",
              "      <td>South America</td>\n",
              "      <td>67</td>\n",
              "      <td>5</td>\n",
              "      <td>0</td>\n",
              "      <td>0</td>\n",
              "      <td>1</td>\n",
              "      <td>...</td>\n",
              "      <td>No</td>\n",
              "      <td>Lose</td>\n",
              "      <td>NaN</td>\n",
              "      <td>NaN</td>\n",
              "      <td>NaN</td>\n",
              "      <td>NaN</td>\n",
              "      <td>NaN</td>\n",
              "      <td>NaN</td>\n",
              "      <td>NaN</td>\n",
              "      <td>NaN</td>\n",
              "    </tr>\n",
              "  </tbody>\n",
              "</table>\n",
              "<p>5 rows × 25 columns</p>\n",
              "</div>"
            ],
            "text/plain": [
              "         date home_team     away_team home_team_continent away_team_continent  \\\n",
              "0  1993-08-08   Bolivia       Uruguay       South America       South America   \n",
              "1  1993-08-08    Brazil        Mexico       South America       North America   \n",
              "2  1993-08-08   Ecuador     Venezuela       South America       South America   \n",
              "3  1993-08-08    Guinea  Sierra Leone              Africa              Africa   \n",
              "4  1993-08-08  Paraguay     Argentina       South America       South America   \n",
              "\n",
              "   home_team_fifa_rank  away_team_fifa_rank  home_team_total_fifa_points  \\\n",
              "0                   59                   22                            0   \n",
              "1                    8                   14                            0   \n",
              "2                   35                   94                            0   \n",
              "3                   65                   86                            0   \n",
              "4                   67                    5                            0   \n",
              "\n",
              "   away_team_total_fifa_points  home_team_score  ...  shoot_out  \\\n",
              "0                            0                3  ...         No   \n",
              "1                            0                1  ...         No   \n",
              "2                            0                5  ...         No   \n",
              "3                            0                1  ...         No   \n",
              "4                            0                1  ...         No   \n",
              "\n",
              "  home_team_result home_team_goalkeeper_score away_team_goalkeeper_score  \\\n",
              "0              Win                        NaN                        NaN   \n",
              "1             Draw                        NaN                        NaN   \n",
              "2              Win                        NaN                        NaN   \n",
              "3              Win                        NaN                        NaN   \n",
              "4             Lose                        NaN                        NaN   \n",
              "\n",
              "   home_team_mean_defense_score home_team_mean_offense_score  \\\n",
              "0                           NaN                          NaN   \n",
              "1                           NaN                          NaN   \n",
              "2                           NaN                          NaN   \n",
              "3                           NaN                          NaN   \n",
              "4                           NaN                          NaN   \n",
              "\n",
              "  home_team_mean_midfield_score  away_team_mean_defense_score  \\\n",
              "0                           NaN                           NaN   \n",
              "1                           NaN                           NaN   \n",
              "2                           NaN                           NaN   \n",
              "3                           NaN                           NaN   \n",
              "4                           NaN                           NaN   \n",
              "\n",
              "   away_team_mean_offense_score  away_team_mean_midfield_score  \n",
              "0                           NaN                            NaN  \n",
              "1                           NaN                            NaN  \n",
              "2                           NaN                            NaN  \n",
              "3                           NaN                            NaN  \n",
              "4                           NaN                            NaN  \n",
              "\n",
              "[5 rows x 25 columns]"
            ]
          },
          "execution_count": 44,
          "metadata": {},
          "output_type": "execute_result"
        }
      ],
      "source": [
        "import pandas as pd\n",
        "\n",
        "bucket='sagemaker-studio-520744461466-mo75b1braj'\n",
        "data_key = 'international_matches.csv'\n",
        "data_location = 's3://{}/{}'.format(bucket, data_key)\n",
        "\n",
        "df = pd.read_csv(data_location)\n",
        "df.head()"
      ]
    },
    {
      "cell_type": "code",
      "execution_count": null,
      "id": "0aadad82-4fea-4070-be93-deddfcc4744d",
      "metadata": {
        "id": "0aadad82-4fea-4070-be93-deddfcc4744d",
        "outputId": "46222d45-89e8-4ec0-939c-e5e6bbfd4940"
      },
      "outputs": [
        {
          "name": "stdout",
          "output_type": "stream",
          "text": [
            "<class 'pandas.core.frame.DataFrame'>\n",
            "RangeIndex: 23921 entries, 0 to 23920\n",
            "Data columns (total 25 columns):\n",
            " #   Column                         Non-Null Count  Dtype  \n",
            "---  ------                         --------------  -----  \n",
            " 0   date                           23921 non-null  object \n",
            " 1   home_team                      23921 non-null  object \n",
            " 2   away_team                      23921 non-null  object \n",
            " 3   home_team_continent            23921 non-null  object \n",
            " 4   away_team_continent            23921 non-null  object \n",
            " 5   home_team_fifa_rank            23921 non-null  int64  \n",
            " 6   away_team_fifa_rank            23921 non-null  int64  \n",
            " 7   home_team_total_fifa_points    23921 non-null  int64  \n",
            " 8   away_team_total_fifa_points    23921 non-null  int64  \n",
            " 9   home_team_score                23921 non-null  int64  \n",
            " 10  away_team_score                23921 non-null  int64  \n",
            " 11  tournament                     23921 non-null  object \n",
            " 12  city                           23921 non-null  object \n",
            " 13  country                        23921 non-null  object \n",
            " 14  neutral_location               23921 non-null  bool   \n",
            " 15  shoot_out                      23921 non-null  object \n",
            " 16  home_team_result               23921 non-null  object \n",
            " 17  home_team_goalkeeper_score     8379 non-null   float64\n",
            " 18  away_team_goalkeeper_score     8095 non-null   float64\n",
            " 19  home_team_mean_defense_score   7787 non-null   float64\n",
            " 20  home_team_mean_offense_score   8510 non-null   float64\n",
            " 21  home_team_mean_midfield_score  8162 non-null   float64\n",
            " 22  away_team_mean_defense_score   7564 non-null   float64\n",
            " 23  away_team_mean_offense_score   8312 non-null   float64\n",
            " 24  away_team_mean_midfield_score  7979 non-null   float64\n",
            "dtypes: bool(1), float64(8), int64(6), object(10)\n",
            "memory usage: 4.4+ MB\n"
          ]
        }
      ],
      "source": [
        "df.info()"
      ]
    },
    {
      "cell_type": "code",
      "execution_count": null,
      "id": "be3f219d-fd1e-4fd0-84ce-11733f977e9d",
      "metadata": {
        "tags": [],
        "id": "be3f219d-fd1e-4fd0-84ce-11733f977e9d",
        "outputId": "bbb12dee-ce97-48b1-a6d2-e08743d53bdb"
      },
      "outputs": [
        {
          "data": {
            "text/plain": [
              "date                                 0\n",
              "home_team                            0\n",
              "away_team                            0\n",
              "home_team_continent                  0\n",
              "away_team_continent                  0\n",
              "home_team_fifa_rank                  0\n",
              "away_team_fifa_rank                  0\n",
              "home_team_total_fifa_points          0\n",
              "away_team_total_fifa_points          0\n",
              "home_team_score                      0\n",
              "away_team_score                      0\n",
              "tournament                           0\n",
              "city                                 0\n",
              "country                              0\n",
              "neutral_location                     0\n",
              "shoot_out                            0\n",
              "home_team_result                     0\n",
              "home_team_goalkeeper_score       15542\n",
              "away_team_goalkeeper_score       15826\n",
              "home_team_mean_defense_score     16134\n",
              "home_team_mean_offense_score     15411\n",
              "home_team_mean_midfield_score    15759\n",
              "away_team_mean_defense_score     16357\n",
              "away_team_mean_offense_score     15609\n",
              "away_team_mean_midfield_score    15942\n",
              "dtype: int64"
            ]
          },
          "execution_count": 46,
          "metadata": {},
          "output_type": "execute_result"
        }
      ],
      "source": [
        "df.isnull().sum()"
      ]
    },
    {
      "cell_type": "code",
      "execution_count": null,
      "id": "eddaeab1-92f2-4631-a861-1c9eda161f38",
      "metadata": {
        "tags": [],
        "id": "eddaeab1-92f2-4631-a861-1c9eda161f38"
      },
      "outputs": [],
      "source": [
        "df = df.fillna(0)"
      ]
    },
    {
      "cell_type": "code",
      "execution_count": null,
      "id": "1646e8f5-7297-4add-a280-222ba9767054",
      "metadata": {
        "tags": [],
        "id": "1646e8f5-7297-4add-a280-222ba9767054",
        "outputId": "3bc06d30-ab61-4ba4-cc21-13cf6d23a8ad"
      },
      "outputs": [
        {
          "name": "stderr",
          "output_type": "stream",
          "text": [
            "/opt/conda/lib/python3.7/site-packages/ipykernel_launcher.py:1: FutureWarning: In a future version of pandas all arguments of DataFrame.drop except for the argument 'labels' will be keyword-only\n",
            "  \"\"\"Entry point for launching an IPython kernel.\n"
          ]
        }
      ],
      "source": [
        "df = df.drop(['home_team_score', 'away_team_score'],1)"
      ]
    },
    {
      "cell_type": "code",
      "execution_count": null,
      "id": "46310422-e00c-455e-aa12-9817e6d53f8e",
      "metadata": {
        "tags": [],
        "id": "46310422-e00c-455e-aa12-9817e6d53f8e"
      },
      "outputs": [],
      "source": [
        "#Label encoding\n",
        "obj =list(df.dtypes.index[df.dtypes =='object'])\n",
        "le =  LabelEncoder()\n",
        "for col  in obj:\n",
        "  df[col] = le.fit_transform(df[col])\n",
        "df.neutral_location = df.neutral_location.replace(True, 1).replace(False,0)"
      ]
    },
    {
      "cell_type": "code",
      "execution_count": null,
      "id": "5bee465e-12d4-416b-81a7-d2a7fa0e7eba",
      "metadata": {
        "tags": [],
        "id": "5bee465e-12d4-416b-81a7-d2a7fa0e7eba",
        "outputId": "12205dc2-876d-40ea-c0c2-547ac76d958b"
      },
      "outputs": [
        {
          "name": "stderr",
          "output_type": "stream",
          "text": [
            "/opt/conda/lib/python3.7/site-packages/ipykernel_launcher.py:1: FutureWarning: In a future version of pandas all arguments of DataFrame.drop except for the argument 'labels' will be keyword-only\n",
            "  \"\"\"Entry point for launching an IPython kernel.\n"
          ]
        }
      ],
      "source": [
        "x = df.drop('home_team_result',1)\n",
        "y = df['home_team_result']"
      ]
    },
    {
      "cell_type": "code",
      "execution_count": null,
      "id": "6a598b0d-c4c1-4f4a-b864-4e120b62c805",
      "metadata": {
        "tags": [],
        "id": "6a598b0d-c4c1-4f4a-b864-4e120b62c805"
      },
      "outputs": [],
      "source": [
        "x_train, x_test, y_train, y_test = train_test_split(x, y, random_state =11, test_size =.2)"
      ]
    },
    {
      "cell_type": "code",
      "execution_count": null,
      "id": "11209386-a455-491f-8b5f-5c0f0fdb8b2b",
      "metadata": {
        "tags": [],
        "id": "11209386-a455-491f-8b5f-5c0f0fdb8b2b",
        "outputId": "c0dd5dd1-fbc8-42a4-a168-1cd28e3a70e8"
      },
      "outputs": [
        {
          "name": "stderr",
          "output_type": "stream",
          "text": [
            "/opt/conda/lib/python3.7/site-packages/ipykernel_launcher.py:1: SettingWithCopyWarning: \n",
            "A value is trying to be set on a copy of a slice from a DataFrame.\n",
            "Try using .loc[row_indexer,col_indexer] = value instead\n",
            "\n",
            "See the caveats in the documentation: https://pandas.pydata.org/pandas-docs/stable/user_guide/indexing.html#returning-a-view-versus-a-copy\n",
            "  \"\"\"Entry point for launching an IPython kernel.\n",
            "/opt/conda/lib/python3.7/site-packages/ipykernel_launcher.py:3: SettingWithCopyWarning: \n",
            "A value is trying to be set on a copy of a slice from a DataFrame.\n",
            "Try using .loc[row_indexer,col_indexer] = value instead\n",
            "\n",
            "See the caveats in the documentation: https://pandas.pydata.org/pandas-docs/stable/user_guide/indexing.html#returning-a-view-versus-a-copy\n",
            "  This is separate from the ipykernel package so we can avoid doing imports until\n"
          ]
        }
      ],
      "source": [
        "x_train ['home_team_result'] = y_train\n",
        "train_data = x_train.copy()\n",
        "x_test ['home_team_result'] = y_test\n",
        "validation_data = x_test.copy()"
      ]
    },
    {
      "cell_type": "code",
      "execution_count": null,
      "id": "d881c970-844e-4be9-9085-7bfa62adf234",
      "metadata": {
        "tags": [],
        "id": "d881c970-844e-4be9-9085-7bfa62adf234"
      },
      "outputs": [],
      "source": [
        "import boto3\n",
        "import io"
      ]
    },
    {
      "cell_type": "code",
      "execution_count": null,
      "id": "7b9545c3-8d9f-47f5-bff6-4dc2a83f0746",
      "metadata": {
        "tags": [],
        "id": "7b9545c3-8d9f-47f5-bff6-4dc2a83f0746",
        "outputId": "d297475f-d98c-4555-d38f-c53a8ace2e52"
      },
      "outputs": [
        {
          "data": {
            "text/plain": [
              "{'ResponseMetadata': {'RequestId': 'QHFQ2SQHTSG2Y6T4',\n",
              "  'HostId': 'XG2OWdyQ3ATEQl2FyWrnpRZ+RxMyBorgnjd4tFdSsB6rRp12MIK8k2ZsZVj6i/31gQfyA8+hI/d6GQSkBmBNbQ==',\n",
              "  'HTTPStatusCode': 200,\n",
              "  'HTTPHeaders': {'x-amz-id-2': 'XG2OWdyQ3ATEQl2FyWrnpRZ+RxMyBorgnjd4tFdSsB6rRp12MIK8k2ZsZVj6i/31gQfyA8+hI/d6GQSkBmBNbQ==',\n",
              "   'x-amz-request-id': 'QHFQ2SQHTSG2Y6T4',\n",
              "   'date': 'Fri, 05 May 2023 15:04:07 GMT',\n",
              "   'x-amz-server-side-encryption': 'AES256',\n",
              "   'etag': '\"c5df19ed061b56ba873567527663fa60\"',\n",
              "   'server': 'AmazonS3',\n",
              "   'content-length': '0'},\n",
              "  'RetryAttempts': 0},\n",
              " 'ETag': '\"c5df19ed061b56ba873567527663fa60\"',\n",
              " 'ServerSideEncryption': 'AES256'}"
            ]
          },
          "execution_count": 56,
          "metadata": {},
          "output_type": "execute_result"
        }
      ],
      "source": [
        "# Set up the S3 client\n",
        "s3 = boto3.resource('s3')\n",
        "\n",
        "# Define the bucket name and file names\n",
        "bucket_name = 'sagemaker-studio-**********aj'\n",
        "train_file_name = 'train_data.csv'\n",
        "validation_file_name = 'validation_data.csv'\n",
        "\n",
        "# Save train data to S3\n",
        "train_buffer = io.StringIO()\n",
        "train_data.to_csv(train_buffer, index=False)\n",
        "s3.Object(bucket_name, train_file_name).put(Body=train_buffer.getvalue())\n",
        "\n",
        "# Save validation data to S3\n",
        "validation_buffer = io.StringIO()\n",
        "validation_data.to_csv(validation_buffer, index=False)\n",
        "s3.Object(bucket_name, validation_file_name).put(Body=validation_buffer.getvalue())\n"
      ]
    },
    {
      "cell_type": "code",
      "execution_count": null,
      "id": "ef2cf961-71cd-4327-9941-e014a3f26ebf",
      "metadata": {
        "tags": [],
        "id": "ef2cf961-71cd-4327-9941-e014a3f26ebf",
        "outputId": "2de262fc-1fb6-49dd-94ac-9c388ba00d93"
      },
      "outputs": [
        {
          "name": "stdout",
          "output_type": "stream",
          "text": [
            "train_data.csv is in the bucket.\n",
            "validation_data.csv is in the bucket.\n"
          ]
        }
      ],
      "source": [
        "import boto3\n",
        "\n",
        "# Set up the S3 client\n",
        "s3 = boto3.resource('s3')\n",
        "\n",
        "# Define the bucket name and file names\n",
        "# bucket_name = 'your-bucket-name'\n",
        "train_file_name = 'train_data.csv'\n",
        "validation_file_name = 'validation_data.csv'\n",
        "\n",
        "# List objects in the bucket\n",
        "bucket = s3.Bucket(bucket_name)\n",
        "objects = bucket.objects.all()\n",
        "object_keys = [obj.key for obj in objects]\n",
        "\n",
        "# Check if train_data.csv and validation_data.csv are in the bucket\n",
        "if train_file_name in object_keys:\n",
        "    print(f\"{train_file_name} is in the bucket.\")\n",
        "else:\n",
        "    print(f\"{train_file_name} is not in the bucket.\")\n",
        "    \n",
        "if validation_file_name in object_keys:\n",
        "    print(f\"{validation_file_name} is in the bucket.\")\n",
        "else:\n",
        "    print(f\"{validation_file_name} is not in the bucket.\")\n"
      ]
    },
    {
      "cell_type": "code",
      "execution_count": null,
      "id": "05971bd9-b978-4f33-8eb7-e61953455a22",
      "metadata": {
        "id": "05971bd9-b978-4f33-8eb7-e61953455a22"
      },
      "outputs": [],
      "source": []
    }
  ],
  "metadata": {
    "availableInstances": [
      {
        "_defaultOrder": 0,
        "_isFastLaunch": true,
        "category": "General purpose",
        "gpuNum": 0,
        "hideHardwareSpecs": false,
        "memoryGiB": 4,
        "name": "ml.t3.medium",
        "vcpuNum": 2
      },
      {
        "_defaultOrder": 1,
        "_isFastLaunch": false,
        "category": "General purpose",
        "gpuNum": 0,
        "hideHardwareSpecs": false,
        "memoryGiB": 8,
        "name": "ml.t3.large",
        "vcpuNum": 2
      },
      {
        "_defaultOrder": 2,
        "_isFastLaunch": false,
        "category": "General purpose",
        "gpuNum": 0,
        "hideHardwareSpecs": false,
        "memoryGiB": 16,
        "name": "ml.t3.xlarge",
        "vcpuNum": 4
      },
      {
        "_defaultOrder": 3,
        "_isFastLaunch": false,
        "category": "General purpose",
        "gpuNum": 0,
        "hideHardwareSpecs": false,
        "memoryGiB": 32,
        "name": "ml.t3.2xlarge",
        "vcpuNum": 8
      },
      {
        "_defaultOrder": 4,
        "_isFastLaunch": true,
        "category": "General purpose",
        "gpuNum": 0,
        "hideHardwareSpecs": false,
        "memoryGiB": 8,
        "name": "ml.m5.large",
        "vcpuNum": 2
      },
      {
        "_defaultOrder": 5,
        "_isFastLaunch": false,
        "category": "General purpose",
        "gpuNum": 0,
        "hideHardwareSpecs": false,
        "memoryGiB": 16,
        "name": "ml.m5.xlarge",
        "vcpuNum": 4
      },
      {
        "_defaultOrder": 6,
        "_isFastLaunch": false,
        "category": "General purpose",
        "gpuNum": 0,
        "hideHardwareSpecs": false,
        "memoryGiB": 32,
        "name": "ml.m5.2xlarge",
        "vcpuNum": 8
      },
      {
        "_defaultOrder": 7,
        "_isFastLaunch": false,
        "category": "General purpose",
        "gpuNum": 0,
        "hideHardwareSpecs": false,
        "memoryGiB": 64,
        "name": "ml.m5.4xlarge",
        "vcpuNum": 16
      },
      {
        "_defaultOrder": 8,
        "_isFastLaunch": false,
        "category": "General purpose",
        "gpuNum": 0,
        "hideHardwareSpecs": false,
        "memoryGiB": 128,
        "name": "ml.m5.8xlarge",
        "vcpuNum": 32
      },
      {
        "_defaultOrder": 9,
        "_isFastLaunch": false,
        "category": "General purpose",
        "gpuNum": 0,
        "hideHardwareSpecs": false,
        "memoryGiB": 192,
        "name": "ml.m5.12xlarge",
        "vcpuNum": 48
      },
      {
        "_defaultOrder": 10,
        "_isFastLaunch": false,
        "category": "General purpose",
        "gpuNum": 0,
        "hideHardwareSpecs": false,
        "memoryGiB": 256,
        "name": "ml.m5.16xlarge",
        "vcpuNum": 64
      },
      {
        "_defaultOrder": 11,
        "_isFastLaunch": false,
        "category": "General purpose",
        "gpuNum": 0,
        "hideHardwareSpecs": false,
        "memoryGiB": 384,
        "name": "ml.m5.24xlarge",
        "vcpuNum": 96
      },
      {
        "_defaultOrder": 12,
        "_isFastLaunch": false,
        "category": "General purpose",
        "gpuNum": 0,
        "hideHardwareSpecs": false,
        "memoryGiB": 8,
        "name": "ml.m5d.large",
        "vcpuNum": 2
      },
      {
        "_defaultOrder": 13,
        "_isFastLaunch": false,
        "category": "General purpose",
        "gpuNum": 0,
        "hideHardwareSpecs": false,
        "memoryGiB": 16,
        "name": "ml.m5d.xlarge",
        "vcpuNum": 4
      },
      {
        "_defaultOrder": 14,
        "_isFastLaunch": false,
        "category": "General purpose",
        "gpuNum": 0,
        "hideHardwareSpecs": false,
        "memoryGiB": 32,
        "name": "ml.m5d.2xlarge",
        "vcpuNum": 8
      },
      {
        "_defaultOrder": 15,
        "_isFastLaunch": false,
        "category": "General purpose",
        "gpuNum": 0,
        "hideHardwareSpecs": false,
        "memoryGiB": 64,
        "name": "ml.m5d.4xlarge",
        "vcpuNum": 16
      },
      {
        "_defaultOrder": 16,
        "_isFastLaunch": false,
        "category": "General purpose",
        "gpuNum": 0,
        "hideHardwareSpecs": false,
        "memoryGiB": 128,
        "name": "ml.m5d.8xlarge",
        "vcpuNum": 32
      },
      {
        "_defaultOrder": 17,
        "_isFastLaunch": false,
        "category": "General purpose",
        "gpuNum": 0,
        "hideHardwareSpecs": false,
        "memoryGiB": 192,
        "name": "ml.m5d.12xlarge",
        "vcpuNum": 48
      },
      {
        "_defaultOrder": 18,
        "_isFastLaunch": false,
        "category": "General purpose",
        "gpuNum": 0,
        "hideHardwareSpecs": false,
        "memoryGiB": 256,
        "name": "ml.m5d.16xlarge",
        "vcpuNum": 64
      },
      {
        "_defaultOrder": 19,
        "_isFastLaunch": false,
        "category": "General purpose",
        "gpuNum": 0,
        "hideHardwareSpecs": false,
        "memoryGiB": 384,
        "name": "ml.m5d.24xlarge",
        "vcpuNum": 96
      },
      {
        "_defaultOrder": 20,
        "_isFastLaunch": false,
        "category": "General purpose",
        "gpuNum": 0,
        "hideHardwareSpecs": true,
        "memoryGiB": 0,
        "name": "ml.geospatial.interactive",
        "supportedImageNames": [
          "sagemaker-geospatial-v1-0"
        ],
        "vcpuNum": 0
      },
      {
        "_defaultOrder": 21,
        "_isFastLaunch": true,
        "category": "Compute optimized",
        "gpuNum": 0,
        "hideHardwareSpecs": false,
        "memoryGiB": 4,
        "name": "ml.c5.large",
        "vcpuNum": 2
      },
      {
        "_defaultOrder": 22,
        "_isFastLaunch": false,
        "category": "Compute optimized",
        "gpuNum": 0,
        "hideHardwareSpecs": false,
        "memoryGiB": 8,
        "name": "ml.c5.xlarge",
        "vcpuNum": 4
      },
      {
        "_defaultOrder": 23,
        "_isFastLaunch": false,
        "category": "Compute optimized",
        "gpuNum": 0,
        "hideHardwareSpecs": false,
        "memoryGiB": 16,
        "name": "ml.c5.2xlarge",
        "vcpuNum": 8
      },
      {
        "_defaultOrder": 24,
        "_isFastLaunch": false,
        "category": "Compute optimized",
        "gpuNum": 0,
        "hideHardwareSpecs": false,
        "memoryGiB": 32,
        "name": "ml.c5.4xlarge",
        "vcpuNum": 16
      },
      {
        "_defaultOrder": 25,
        "_isFastLaunch": false,
        "category": "Compute optimized",
        "gpuNum": 0,
        "hideHardwareSpecs": false,
        "memoryGiB": 72,
        "name": "ml.c5.9xlarge",
        "vcpuNum": 36
      },
      {
        "_defaultOrder": 26,
        "_isFastLaunch": false,
        "category": "Compute optimized",
        "gpuNum": 0,
        "hideHardwareSpecs": false,
        "memoryGiB": 96,
        "name": "ml.c5.12xlarge",
        "vcpuNum": 48
      },
      {
        "_defaultOrder": 27,
        "_isFastLaunch": false,
        "category": "Compute optimized",
        "gpuNum": 0,
        "hideHardwareSpecs": false,
        "memoryGiB": 144,
        "name": "ml.c5.18xlarge",
        "vcpuNum": 72
      },
      {
        "_defaultOrder": 28,
        "_isFastLaunch": false,
        "category": "Compute optimized",
        "gpuNum": 0,
        "hideHardwareSpecs": false,
        "memoryGiB": 192,
        "name": "ml.c5.24xlarge",
        "vcpuNum": 96
      },
      {
        "_defaultOrder": 29,
        "_isFastLaunch": true,
        "category": "Accelerated computing",
        "gpuNum": 1,
        "hideHardwareSpecs": false,
        "memoryGiB": 16,
        "name": "ml.g4dn.xlarge",
        "vcpuNum": 4
      },
      {
        "_defaultOrder": 30,
        "_isFastLaunch": false,
        "category": "Accelerated computing",
        "gpuNum": 1,
        "hideHardwareSpecs": false,
        "memoryGiB": 32,
        "name": "ml.g4dn.2xlarge",
        "vcpuNum": 8
      },
      {
        "_defaultOrder": 31,
        "_isFastLaunch": false,
        "category": "Accelerated computing",
        "gpuNum": 1,
        "hideHardwareSpecs": false,
        "memoryGiB": 64,
        "name": "ml.g4dn.4xlarge",
        "vcpuNum": 16
      },
      {
        "_defaultOrder": 32,
        "_isFastLaunch": false,
        "category": "Accelerated computing",
        "gpuNum": 1,
        "hideHardwareSpecs": false,
        "memoryGiB": 128,
        "name": "ml.g4dn.8xlarge",
        "vcpuNum": 32
      },
      {
        "_defaultOrder": 33,
        "_isFastLaunch": false,
        "category": "Accelerated computing",
        "gpuNum": 4,
        "hideHardwareSpecs": false,
        "memoryGiB": 192,
        "name": "ml.g4dn.12xlarge",
        "vcpuNum": 48
      },
      {
        "_defaultOrder": 34,
        "_isFastLaunch": false,
        "category": "Accelerated computing",
        "gpuNum": 1,
        "hideHardwareSpecs": false,
        "memoryGiB": 256,
        "name": "ml.g4dn.16xlarge",
        "vcpuNum": 64
      },
      {
        "_defaultOrder": 35,
        "_isFastLaunch": false,
        "category": "Accelerated computing",
        "gpuNum": 1,
        "hideHardwareSpecs": false,
        "memoryGiB": 61,
        "name": "ml.p3.2xlarge",
        "vcpuNum": 8
      },
      {
        "_defaultOrder": 36,
        "_isFastLaunch": false,
        "category": "Accelerated computing",
        "gpuNum": 4,
        "hideHardwareSpecs": false,
        "memoryGiB": 244,
        "name": "ml.p3.8xlarge",
        "vcpuNum": 32
      },
      {
        "_defaultOrder": 37,
        "_isFastLaunch": false,
        "category": "Accelerated computing",
        "gpuNum": 8,
        "hideHardwareSpecs": false,
        "memoryGiB": 488,
        "name": "ml.p3.16xlarge",
        "vcpuNum": 64
      },
      {
        "_defaultOrder": 38,
        "_isFastLaunch": false,
        "category": "Accelerated computing",
        "gpuNum": 8,
        "hideHardwareSpecs": false,
        "memoryGiB": 768,
        "name": "ml.p3dn.24xlarge",
        "vcpuNum": 96
      },
      {
        "_defaultOrder": 39,
        "_isFastLaunch": false,
        "category": "Memory Optimized",
        "gpuNum": 0,
        "hideHardwareSpecs": false,
        "memoryGiB": 16,
        "name": "ml.r5.large",
        "vcpuNum": 2
      },
      {
        "_defaultOrder": 40,
        "_isFastLaunch": false,
        "category": "Memory Optimized",
        "gpuNum": 0,
        "hideHardwareSpecs": false,
        "memoryGiB": 32,
        "name": "ml.r5.xlarge",
        "vcpuNum": 4
      },
      {
        "_defaultOrder": 41,
        "_isFastLaunch": false,
        "category": "Memory Optimized",
        "gpuNum": 0,
        "hideHardwareSpecs": false,
        "memoryGiB": 64,
        "name": "ml.r5.2xlarge",
        "vcpuNum": 8
      },
      {
        "_defaultOrder": 42,
        "_isFastLaunch": false,
        "category": "Memory Optimized",
        "gpuNum": 0,
        "hideHardwareSpecs": false,
        "memoryGiB": 128,
        "name": "ml.r5.4xlarge",
        "vcpuNum": 16
      },
      {
        "_defaultOrder": 43,
        "_isFastLaunch": false,
        "category": "Memory Optimized",
        "gpuNum": 0,
        "hideHardwareSpecs": false,
        "memoryGiB": 256,
        "name": "ml.r5.8xlarge",
        "vcpuNum": 32
      },
      {
        "_defaultOrder": 44,
        "_isFastLaunch": false,
        "category": "Memory Optimized",
        "gpuNum": 0,
        "hideHardwareSpecs": false,
        "memoryGiB": 384,
        "name": "ml.r5.12xlarge",
        "vcpuNum": 48
      },
      {
        "_defaultOrder": 45,
        "_isFastLaunch": false,
        "category": "Memory Optimized",
        "gpuNum": 0,
        "hideHardwareSpecs": false,
        "memoryGiB": 512,
        "name": "ml.r5.16xlarge",
        "vcpuNum": 64
      },
      {
        "_defaultOrder": 46,
        "_isFastLaunch": false,
        "category": "Memory Optimized",
        "gpuNum": 0,
        "hideHardwareSpecs": false,
        "memoryGiB": 768,
        "name": "ml.r5.24xlarge",
        "vcpuNum": 96
      },
      {
        "_defaultOrder": 47,
        "_isFastLaunch": false,
        "category": "Accelerated computing",
        "gpuNum": 1,
        "hideHardwareSpecs": false,
        "memoryGiB": 16,
        "name": "ml.g5.xlarge",
        "vcpuNum": 4
      },
      {
        "_defaultOrder": 48,
        "_isFastLaunch": false,
        "category": "Accelerated computing",
        "gpuNum": 1,
        "hideHardwareSpecs": false,
        "memoryGiB": 32,
        "name": "ml.g5.2xlarge",
        "vcpuNum": 8
      },
      {
        "_defaultOrder": 49,
        "_isFastLaunch": false,
        "category": "Accelerated computing",
        "gpuNum": 1,
        "hideHardwareSpecs": false,
        "memoryGiB": 64,
        "name": "ml.g5.4xlarge",
        "vcpuNum": 16
      },
      {
        "_defaultOrder": 50,
        "_isFastLaunch": false,
        "category": "Accelerated computing",
        "gpuNum": 1,
        "hideHardwareSpecs": false,
        "memoryGiB": 128,
        "name": "ml.g5.8xlarge",
        "vcpuNum": 32
      },
      {
        "_defaultOrder": 51,
        "_isFastLaunch": false,
        "category": "Accelerated computing",
        "gpuNum": 1,
        "hideHardwareSpecs": false,
        "memoryGiB": 256,
        "name": "ml.g5.16xlarge",
        "vcpuNum": 64
      },
      {
        "_defaultOrder": 52,
        "_isFastLaunch": false,
        "category": "Accelerated computing",
        "gpuNum": 4,
        "hideHardwareSpecs": false,
        "memoryGiB": 192,
        "name": "ml.g5.12xlarge",
        "vcpuNum": 48
      },
      {
        "_defaultOrder": 53,
        "_isFastLaunch": false,
        "category": "Accelerated computing",
        "gpuNum": 4,
        "hideHardwareSpecs": false,
        "memoryGiB": 384,
        "name": "ml.g5.24xlarge",
        "vcpuNum": 96
      },
      {
        "_defaultOrder": 54,
        "_isFastLaunch": false,
        "category": "Accelerated computing",
        "gpuNum": 8,
        "hideHardwareSpecs": false,
        "memoryGiB": 768,
        "name": "ml.g5.48xlarge",
        "vcpuNum": 192
      }
    ],
    "instance_type": "ml.t3.medium",
    "kernelspec": {
      "display_name": "Python 3 (Data Science)",
      "language": "python",
      "name": "python3__SAGEMAKER_INTERNAL__arn:aws:sagemaker:ap-south-1:394103062818:image/datascience-1.0"
    },
    "language_info": {
      "codemirror_mode": {
        "name": "ipython",
        "version": 3
      },
      "file_extension": ".py",
      "mimetype": "text/x-python",
      "name": "python",
      "nbconvert_exporter": "python",
      "pygments_lexer": "ipython3",
      "version": "3.7.10"
    },
    "colab": {
      "provenance": [],
      "include_colab_link": true
    }
  },
  "nbformat": 4,
  "nbformat_minor": 5
}